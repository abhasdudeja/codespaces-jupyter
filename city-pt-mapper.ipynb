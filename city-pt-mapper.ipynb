{
 "cells": [
  {
   "cell_type": "code",
   "execution_count": 10,
   "metadata": {},
   "outputs": [
    {
     "name": "stdout",
     "output_type": "stream",
     "text": [
      "Error occurred while retrieving cities: Unable to determine UTM CRS\n"
     ]
    }
   ],
   "source": [
    "import osmnx as ox\n",
    "from osmnx import settings\n",
    "import time\n",
    "settings.log_level = 'all'\n",
    "settings.default_crs = 'EPSG:4326'\n",
    "\n",
    "def download_public_transport_networks(city_names):\n",
    "    \"\"\"Downloads public transport networks for a list of cities.\"\"\"\n",
    "\n",
    "    for city_name in city_names:\n",
    "        try:\n",
    "            print(f\"Downloading network for {city_name}...\")\n",
    "            G = ox.graph_from_place(city_name, network_type='all')  # Include all network types\n",
    "            ox.save_graph_shapefile(G, filename=f\"{city_name}_public_transport_network\")\n",
    "            print(f\"Network for {city_name} downloaded successfully.\")\n",
    "\n",
    "            # Consider rate limiting to avoid overwhelming servers\n",
    "            time.sleep(1)  # Adjust delay as needed\n",
    "\n",
    "        except Exception as e:\n",
    "            print(f\"Error occurred while downloading network for {city_name}: {e}\")\n",
    "\n",
    "def get_cities_from_osm(num_cities=100):\n",
    "    \"\"\"Retrieves city names from OSM within a specified bounding box,\n",
    "    leveraging place boundary geometries for accuracy.\n",
    "    \"\"\"\n",
    "\n",
    "    bbox = (89, 180, -89, -180)  # Global bounding box (adjust if needed)\n",
    "\n",
    "    try:\n",
    "        # Retrieve place geometries for more accurate city identification\n",
    "        places_gdf = ox.features_from_bbox(bbox[0],bbox[1],bbox[2],bbox[3], tags={'place': True}).to_crs(4326)\n",
    "        \n",
    "        # places_gdf.to_crs(4326)\n",
    "        # # Select the desired number of cities based on population (or other criteria)\n",
    "        # cities_gdf = places_gdf.sort_values('population', ascending=False).head(num_cities)\n",
    "\n",
    "        # city_names = list(cities_gdf['name'])\n",
    "        \n",
    "        return city_names\n",
    "\n",
    "    except Exception as e:\n",
    "        print(f\"Error occurred while retrieving cities: {e}\")\n",
    "        return []\n",
    "    \n",
    "\n",
    "# Get city names from OSM (assuming a function like get_cities_from_osm() is defined)\n",
    "city_names = get_cities_from_osm(num_cities=100)\n",
    "\n",
    "# Download public transport networks\n",
    "download_public_transport_networks(city_names)"
   ]
  }
 ],
 "metadata": {
  "kernelspec": {
   "display_name": "Python 3",
   "language": "python",
   "name": "python3"
  },
  "language_info": {
   "codemirror_mode": {
    "name": "ipython",
    "version": 3
   },
   "file_extension": ".py",
   "mimetype": "text/x-python",
   "name": "python",
   "nbconvert_exporter": "python",
   "pygments_lexer": "ipython3",
   "version": "3.10.13"
  }
 },
 "nbformat": 4,
 "nbformat_minor": 2
}
