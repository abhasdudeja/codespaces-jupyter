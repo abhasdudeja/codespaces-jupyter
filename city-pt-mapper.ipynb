{
 "cells": [
  {
   "cell_type": "code",
   "execution_count": 3,
   "metadata": {},
   "outputs": [],
   "source": [
    "import osmnx as ox\n",
    "from osmnx import settings, graph, geocoder\n",
    "import time\n",
    "settings.use_cache = True"
   ]
  },
  {
   "cell_type": "code",
   "execution_count": 2,
   "metadata": {},
   "outputs": [],
   "source": [
    "country = 'IN'"
   ]
  },
  {
   "cell_type": "code",
   "execution_count": 5,
   "metadata": {},
   "outputs": [
    {
     "name": "stdout",
     "output_type": "stream",
     "text": [
      "(40.3270127, -86.1746933)\n"
     ]
    }
   ],
   "source": [
    "print(geocoder.geocode(query=country))"
   ]
  },
  {
   "cell_type": "code",
   "execution_count": 2,
   "metadata": {},
   "outputs": [],
   "source": [
    "cust_filter = '[\"route\"~\"bus\"]'"
   ]
  },
  {
   "cell_type": "code",
   "execution_count": 3,
   "metadata": {},
   "outputs": [],
   "source": [
    "def download_public_transport_networks(city_names):\n",
    "    \"\"\"Downloads public transport networks for a list of cities.\"\"\"\n",
    "\n",
    "    for city_name in city_names:\n",
    "        try:\n",
    "            city_name = str(city_name)\n",
    "            print(f\"Downloading network for {city_name}...\")\n",
    "            G = ox.graph_from_place(city_name, network_type='all',custom_filter=cust_filter)\n",
    "            ox.save_graph_geopackage(G,filename=f\"{city_name}_public_transport_network\")\n",
    "            print(f\"Network for {city_name} downloaded successfully.\")\n",
    "\n",
    "            # Consider rate limiting to avoid overwhelming servers\n",
    "            time.sleep(0.5)  # Adjust delay as needed\n",
    "\n",
    "        except Exception as e:\n",
    "            print(f\"Error occurred while downloading network for {city_name}: {e}\")\n",
    "\n",
    "def get_cities_from_osm(num_cities=5):\n",
    "    \"\"\"Retrieves city names from OSM within a specified bounding box,\n",
    "    leveraging place boundary geometries for accuracy.\n",
    "    \"\"\"\n",
    "\n",
    "    bbox=[90,-90,180,-180]  # Global bounding box (adjust if needed)\n",
    "\n",
    "    try:\n",
    "        # Retrieve place geometries for more accurate city identification\n",
    "        places_gdf = ox.features_from_bbox(bbox[0],bbox[1],bbox[2],bbox[3], tags={'place': 'city'})\n",
    "        \n",
    "        # cities_gdf = places_gdf.sort_values('population', ascending=False).head(num_cities)\n",
    "        print(places_gdf)\n",
    "        # city_names = list(cities_gdf['name'])\n",
    "        \n",
    "        return places_gdf\n",
    "\n",
    "    except Exception as e:\n",
    "        print(f\"Error occurred while retrieving cities: {e}\")\n",
    "        return []\n"
   ]
  },
  {
   "cell_type": "code",
   "execution_count": 1,
   "metadata": {},
   "outputs": [],
   "source": [
    "# city_names = get_cities_from_osm(num_cities=5)"
   ]
  },
  {
   "cell_type": "code",
   "execution_count": 2,
   "metadata": {},
   "outputs": [],
   "source": [
    "# Download public transport networks\n",
    "# download_public_transport_networks(city_names)"
   ]
  }
 ],
 "metadata": {
  "kernelspec": {
   "display_name": "Python 3",
   "language": "python",
   "name": "python3"
  },
  "language_info": {
   "codemirror_mode": {
    "name": "ipython",
    "version": 3
   },
   "file_extension": ".py",
   "mimetype": "text/x-python",
   "name": "python",
   "nbconvert_exporter": "python",
   "pygments_lexer": "ipython3",
   "version": "3.10.13"
  }
 },
 "nbformat": 4,
 "nbformat_minor": 2
}
