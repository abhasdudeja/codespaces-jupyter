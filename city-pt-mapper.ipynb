{
 "cells": [
  {
   "cell_type": "code",
   "execution_count": 2,
   "metadata": {},
   "outputs": [],
   "source": [
    "# %load \"classes/main.py\"\n",
    "import osmnx as ox\n",
    "import pandas as pd\n",
    "from osmnx import settings, graph, geocoder\n",
    "from shapely import Polygon\n",
    "import time\n",
    "import numpy as np\n",
    "settings.max_query_area_size = 15000000000000\n",
    "\n",
    "class Osm_Wrapper():\n",
    "\n",
    "    '''\n",
    "    Class to read OSM data and respond back with outputs\n",
    "\n",
    "    Author: Abhas Dudeja\n",
    "\n",
    "    Dependencies: Pandas, GeoPandas, OSMnx, Shapely.\n",
    "    Date: 04 01 2024\n",
    "    '''\n",
    "\n",
    "    @staticmethod\n",
    "    def get_bounds(name,type=\"country\"):\n",
    "        '''\n",
    "        Return bounds of any name value, default type of name \"country\"\n",
    "        '''\n",
    "        res = geocoder.geocode_to_gdf({type:name})\n",
    "        return res.unary_union.bounds\n",
    "    \n",
    "    # @staticmethod\n",
    "    # def get_cities(bbox,count=10):\n",
    "        "
   ]
  },
  {
   "cell_type": "code",
   "execution_count": 3,
   "metadata": {},
   "outputs": [],
   "source": [
    "city = 'Bengaluru'\n",
    "country = \"India\"\n",
    "name = f'{city}, {country}'"
   ]
  },
  {
   "cell_type": "code",
   "execution_count": 4,
   "metadata": {},
   "outputs": [],
   "source": [
    "# set bounding blox using country name\n",
    "bbox = Osm_Wrapper.get_bounds(country,\"country\")"
   ]
  },
  {
   "cell_type": "code",
   "execution_count": 5,
   "metadata": {},
   "outputs": [],
   "source": [
    "country_polygon = ox.geocode_to_gdf(country).geometry[0]\n",
    "# country_polygon = Polygon(country_polygon.geometry)"
   ]
  },
  {
   "cell_type": "code",
   "execution_count": 6,
   "metadata": {},
   "outputs": [],
   "source": [
    "cities = ox.features_from_polygon(polygon = country_polygon, tags={\"place\": \"city\"})\n",
    "cities = pd.DataFrame(cities,columns=cities.columns).drop('geometry', axis = 1)"
   ]
  },
  {
   "cell_type": "code",
   "execution_count": null,
   "metadata": {},
   "outputs": [],
   "source": [
    "cust_filter = '[\"route\"=\"bus\"]'"
   ]
  },
  {
   "cell_type": "code",
   "execution_count": null,
   "metadata": {},
   "outputs": [],
   "source": [
    "def download_public_transport_networks(city_names):\n",
    "    \"\"\"Downloads public transport networks for a list of cities.\"\"\"\n",
    "\n",
    "    for city_name in city_names:\n",
    "        try:\n",
    "            city_name = str(city_name)\n",
    "            print(f\"Downloading network for {city_name}...\")\n",
    "            G = ox.graph_from_place(city_name, network_type='all')\n",
    "            ox.save_graph_geopackage(G,filename=f\"{city_name}_public_transport_network\")\n",
    "            print(f\"Network for {city_name} downloaded successfully.\")\n",
    "\n",
    "            # Consider rate limiting to avoid overwhelming servers\n",
    "            time.sleep(0.5)  # Adjust delay as needed\n",
    "\n",
    "        except Exception as e:\n",
    "            print(f\"Error occurred while downloading network for {city_name}: {e}\")\n"
   ]
  },
  {
   "cell_type": "code",
   "execution_count": null,
   "metadata": {},
   "outputs": [],
   "source": [
    "def get_cities_from_osm(num_cities=5):\n",
    "    \"\"\"Retrieves city names from OSM within a specified bounding box,\n",
    "    leveraging place boundary geometries for accuracy.\n",
    "    \"\"\"\n",
    "    # set bounding blox using country name\n",
    "    bbox = get_country_bounds(country)\n",
    "\n",
    "    try:\n",
    "        # Retrieve place geometries for more accurate city identification\n",
    "        places_gdf = ox.features_from_bbox(north=bbox[0],south=bbox[1],east=bbox[2],west=bbox[3], tags={'place': 'city'})\n",
    "        \n",
    "        cities_gdf = places_gdf.sort_values('population', ascending=False).head(num_cities)\n",
    "        print(places_gdf)\n",
    "        city_names = list(cities_gdf['name'])\n",
    "        \n",
    "        return city_names\n",
    "\n",
    "    except Exception as e:\n",
    "        print(f\"Error occurred while retrieving cities: {e}\")\n",
    "        return []"
   ]
  },
  {
   "cell_type": "code",
   "execution_count": null,
   "metadata": {},
   "outputs": [],
   "source": [
    "city_names = get_cities_from_osm(num_cities=5)"
   ]
  },
  {
   "cell_type": "code",
   "execution_count": null,
   "metadata": {},
   "outputs": [],
   "source": [
    "# Download public transport networks\n",
    "# download_public_transport_networks(city_names)"
   ]
  }
 ],
 "metadata": {
  "kernelspec": {
   "display_name": "Python 3",
   "language": "python",
   "name": "python3"
  },
  "language_info": {
   "codemirror_mode": {
    "name": "ipython",
    "version": 3
   },
   "file_extension": ".py",
   "mimetype": "text/x-python",
   "name": "python",
   "nbconvert_exporter": "python",
   "pygments_lexer": "ipython3",
   "version": "3.10.13"
  }
 },
 "nbformat": 4,
 "nbformat_minor": 2
}
