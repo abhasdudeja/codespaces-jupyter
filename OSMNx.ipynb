{
 "cells": [
  {
   "cell_type": "code",
   "execution_count": 10,
   "id": "84dd2a04",
   "metadata": {},
   "outputs": [
    {
     "ename": "ImportError",
     "evalue": "libGL.so.1: cannot open shared object file: No such file or directory",
     "output_type": "error",
     "traceback": [
      "\u001b[0;31m---------------------------------------------------------------------------\u001b[0m",
      "\u001b[0;31mImportError\u001b[0m                               Traceback (most recent call last)",
      "Cell \u001b[0;32mIn[10], line 5\u001b[0m\n\u001b[1;32m      2\u001b[0m \u001b[38;5;66;03m# import matplotlib.pyplot as plt\u001b[39;00m\n\u001b[1;32m      3\u001b[0m \u001b[38;5;66;03m# from matplotlib.backends.backend_qtagg import FigureCanvasQTAgg as FigureCanvas\u001b[39;00m\n\u001b[1;32m      4\u001b[0m \u001b[38;5;28;01mimport\u001b[39;00m \u001b[38;5;21;01msys\u001b[39;00m\n\u001b[0;32m----> 5\u001b[0m \u001b[38;5;28;01mfrom\u001b[39;00m \u001b[38;5;21;01mPyQt6\u001b[39;00m\u001b[38;5;21;01m.\u001b[39;00m\u001b[38;5;21;01mQtWidgets\u001b[39;00m \u001b[38;5;28;01mimport\u001b[39;00m QApplication, QDialog, QVBoxLayout, QLineEdit, QPushButton, QCheckBox, QLabel\n\u001b[1;32m      6\u001b[0m app \u001b[38;5;241m=\u001b[39m QApplication(sys\u001b[38;5;241m.\u001b[39margv)\n",
      "\u001b[0;31mImportError\u001b[0m: libGL.so.1: cannot open shared object file: No such file or directory"
     ]
    }
   ],
   "source": [
    "import osmnx as ox\n",
    "# import matplotlib.pyplot as plt\n",
    "# from matplotlib.backends.backend_qtagg import FigureCanvasQTAgg as FigureCanvas\n",
    "import sys\n",
    "from PyQt6.QtWidgets import QApplication, QDialog, QVBoxLayout, QLineEdit, QPushButton, QCheckBox, QLabel\n",
    "app = QApplication(sys.argv)"
   ]
  },
  {
   "cell_type": "code",
   "execution_count": 2,
   "id": "119d1b4f",
   "metadata": {},
   "outputs": [],
   "source": [
    "class InputDialog(QDialog):\n",
    "    def __init__(self):\n",
    "        super().__init__()\n",
    "\n",
    "        self.setWindowTitle(\"City Road Network Mapper - OSM\")\n",
    "        self.setGeometry(100, 100, 300, 100)\n",
    "\n",
    "        layout = QVBoxLayout()\n",
    "\n",
    "        layout.addWidget(QLabel(\"Which city do you want to view? (City, State (if any) , Country in full)\"))\n",
    "        self.text_input = QLineEdit()\n",
    "        layout.addWidget(self.text_input)\n",
    "        \n",
    "        layout.addWidget(QLabel(\"Select the type of Network you want to print\"))\n",
    "        self.checkbox_group = []\n",
    "        choices = [\"motorway\",\"trunk\",\"primary\",\"secondary\",\"tertiary\",\"motorway_link\",\"trunk_link\"]\n",
    "        for choice in choices:\n",
    "            checkbox = QCheckBox(choice)\n",
    "            self.checkbox_group.append(checkbox)\n",
    "            layout.addWidget(checkbox)\n",
    "\n",
    "        layout.addWidget(QLabel(\"Which color you want it to be printed in? HEX Values with #\"))\n",
    "        self.color_hex = QLineEdit()\n",
    "        layout.addWidget(self.color_hex)\n",
    "\n",
    "        submit_button = QPushButton(\"Submit\")\n",
    "        submit_button.clicked.connect(self.submit_clicked)\n",
    "        layout.addWidget(submit_button)\n",
    "\n",
    "        self.setLayout(layout)\n",
    "\n",
    "    def submit_clicked(self):\n",
    "        self.geocode_city()\n",
    "        selected_choices = [checkbox.text() for checkbox in self.checkbox_group if checkbox.isChecked()]\n",
    "\n",
    "        formatted_choices = \"|\".join(selected_choices)\n",
    "        self.selected_choices_str = f'[\"highway\"~\"{formatted_choices}\"]'\n",
    "\n",
    "        print(self.selected_choices_str)\n",
    "        print(self.color_hex.text())\n",
    "        \n",
    "        # Create the graph using OSMnx\n",
    "        G = ox.graph_from_polygon(self.geocoded_city.geometry.to_list()[0], custom_filter=self.selected_choices_str)\n",
    "        nodes, edges = ox.graph_to_gdfs(G)\n",
    "\n",
    "        color_bcg = '#000000'\n",
    "\n",
    "        f, ax = plt.subplots(1, 1, figsize=(12, 12))\n",
    "        edges.plot(ax=ax, color=self.color_hex.text())\n",
    "        ax.set_facecolor(color_bcg)\n",
    "\n",
    "        # Get rid of the ticks\n",
    "        ax.set_xticks([])\n",
    "        ax.set_yticks([])\n",
    "\n",
    "        # Add the title\n",
    "        ymin, ymax = ax.get_ylim()\n",
    "        extension = 0.2 * (ymax - ymin)\n",
    "        ax.set_ylim(ymin, ymax + extension)\n",
    "        ax.set_title(self.text_input.text(), fontsize=30, color=self.color_hex.text(), y=0.9)\n",
    "\n",
    "        # Create a canvas to display the figure\n",
    "        canvas = FigureCanvas(f)\n",
    "\n",
    "        # Add the canvas to the layout\n",
    "        layout = self.layout()\n",
    "        layout.addWidget(canvas)\n",
    "\n",
    "        self.setLayout(layout)\n",
    "            \n",
    "        # self.close()\n",
    "\n",
    "    def geocode_city(self):\n",
    "        self.geocoded_city = ox.geocode_to_gdf(self.text_input.text())\n",
    "        \n",
    "dialog = InputDialog()\n",
    "dialog.exec()"
   ]
  }
 ],
 "metadata": {
  "kernelspec": {
   "display_name": "Python 3 (ipykernel)",
   "language": "python",
   "name": "python3"
  },
  "language_info": {
   "codemirror_mode": {
    "name": "ipython",
    "version": 3
   },
   "file_extension": ".py",
   "mimetype": "text/x-python",
   "name": "python",
   "nbconvert_exporter": "python",
   "pygments_lexer": "ipython3",
   "version": "3.10.13"
  }
 },
 "nbformat": 4,
 "nbformat_minor": 5
}
